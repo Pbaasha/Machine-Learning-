{
 "cells": [
  {
   "cell_type": "code",
   "execution_count": 1,
   "id": "2d57dce8-1f5a-43fb-a22a-a0080efc7b01",
   "metadata": {},
   "outputs": [],
   "source": [
    "import os\n",
    "os.environ['MLFLOW_TRACKING_URI']='file:///C:\\\\Users\\\\MLOPS'"
   ]
  },
  {
   "cell_type": "code",
   "execution_count": 2,
   "id": "85e0eb79-e330-415b-b591-71871a4fed6b",
   "metadata": {},
   "outputs": [
    {
     "name": "stdout",
     "output_type": "stream",
     "text": [
      "                             run_id       experiment_id    status  \\\n",
      "0  56d8305f1f244bdfb7920647af040838  294596494373969876  FINISHED   \n",
      "1  66ab61bbb3bc49868f059f6e61787f22  294596494373969876    FAILED   \n",
      "2  792e42bfa1a641e9a0ebaa7e3e455795  294596494373969876   RUNNING   \n",
      "\n",
      "                                        artifact_uri  \\\n",
      "0  file:///C://Users//MLOPS/294596494373969876/56...   \n",
      "1  file:///C://Users//MLOPS/294596494373969876/66...   \n",
      "2  file:///C://Users//MLOPS/294596494373969876/79...   \n",
      "\n",
      "                        start_time                         end_time  \\\n",
      "0 2024-05-23 01:12:01.243000+00:00 2024-05-23 02:14:19.170000+00:00   \n",
      "1 2024-05-22 16:12:00.748000+00:00 2024-05-23 01:11:38.454000+00:00   \n",
      "2 2024-05-22 12:54:19.855000+00:00                              NaT   \n",
      "\n",
      "   metrics.gbm_training_score  metrics.rf_testing_score  \\\n",
      "0                    0.893639                  0.877116   \n",
      "1                         NaN                       NaN   \n",
      "2                         NaN                       NaN   \n",
      "\n",
      "   metrics.rf_training_score  metrics.gbm_testing_score  ...  \\\n",
      "0                   0.877092                   0.887923  ...   \n",
      "1                        NaN                        NaN  ...   \n",
      "2                        NaN                        NaN  ...   \n",
      "\n",
      "  params.gbm_n_estimators params.gbm_max_depth  \\\n",
      "0                    3000                    6   \n",
      "1                    3000                    6   \n",
      "2                    3000                    6   \n",
      "\n",
      "  params.gbm_minimum_samples_split  \\\n",
      "0                                5   \n",
      "1                                5   \n",
      "2                                5   \n",
      "\n",
      "                             tags.mlflow.source.name tags.mlflow.runName  \\\n",
      "0  C:\\Users\\MANASA\\anaconda3\\Lib\\site-packages\\ip...  auspicious-ape-646   \n",
      "1  C:\\Users\\MANASA\\anaconda3\\Lib\\site-packages\\ip...   likeable-calf-617   \n",
      "2  C:\\Users\\MANASA\\anaconda3\\Lib\\site-packages\\ip...  resilient-loon-520   \n",
      "\n",
      "  tags.feature_set_version                      tags.mlflow.log-model.history  \\\n",
      "0             loan default  [{\"run_id\": \"56d8305f1f244bdfb7920647af040838\"...   \n",
      "1                     None                                               None   \n",
      "2                     None                                               None   \n",
      "\n",
      "  tags.iteration_name tags.mlflow.source.type tags.mlflow.user  \n",
      "0  test_rf_gb_sklearn                   LOCAL           MANASA  \n",
      "1                None                   LOCAL           MANASA  \n",
      "2                None                   LOCAL           MANASA  \n",
      "\n",
      "[3 rows x 23 columns]\n"
     ]
    }
   ],
   "source": [
    "import mlflow\n",
    "\n",
    "all_runs = mlflow.search_runs(search_all_experiments=True)\n",
    "print(all_runs)"
   ]
  },
  {
   "cell_type": "code",
   "execution_count": 3,
   "id": "4122e0ed-6320-46f3-a4e5-c8895ac181a3",
   "metadata": {},
   "outputs": [
    {
     "name": "stdout",
     "output_type": "stream",
     "text": [
      "^C\n"
     ]
    }
   ],
   "source": [
    "!mlflow models serve -p 8002 -m runs:/56d8305f1f244bdfb7920647af040838/random-forest-model  --no-conda"
   ]
  },
  {
   "cell_type": "code",
   "execution_count": null,
   "id": "cd9b4029-d62f-41ca-bbfb-e576324cf73d",
   "metadata": {},
   "outputs": [],
   "source": []
  }
 ],
 "metadata": {
  "kernelspec": {
   "display_name": "Python 3 (ipykernel)",
   "language": "python",
   "name": "python3"
  },
  "language_info": {
   "codemirror_mode": {
    "name": "ipython",
    "version": 3
   },
   "file_extension": ".py",
   "mimetype": "text/x-python",
   "name": "python",
   "nbconvert_exporter": "python",
   "pygments_lexer": "ipython3",
   "version": "3.11.7"
  }
 },
 "nbformat": 4,
 "nbformat_minor": 5
}
